{
 "cells": [
  {
   "cell_type": "code",
   "execution_count": 11,
   "id": "4aa506e3",
   "metadata": {},
   "outputs": [],
   "source": [
    "import math\n",
    "\n",
    "# HMM parameters\n",
    "states = ['E', '5', 'I']\n",
    "trans = {\n",
    "    'E': {'E': math.log(0.9), '5': math.log(0.1), 'I': float('-inf')},\n",
    "    '5': {'E': float('-inf'), '5': float('-inf'), 'I': math.log(1.0)},\n",
    "    'I': {'E': float('-inf'), '5': float('-inf'), 'I': math.log(0.9)}\n",
    "}\n",
    "emit = {\n",
    "    'E': {'A': math.log(0.25), 'C': math.log(0.25), 'G': math.log(0.25), 'T': math.log(0.25)},\n",
    "    '5': {'A': math.log(0.05), 'C': float('-inf'), 'G': math.log(0.95), 'T': float('-inf')},\n",
    "    'I': {'A': math.log(0.4), 'C': math.log(0.1), 'G': math.log(0.1), 'T': math.log(0.4)}\n",
    "}"
   ]
  },
  {
   "cell_type": "code",
   "execution_count": 12,
   "id": "cdef0ee2",
   "metadata": {},
   "outputs": [],
   "source": [
    "def viterbi(seq):\n",
    "    n = len(seq)\n",
    "    V = [{} for _ in range(n)]\n",
    "    ptr = [{} for _ in range(n)]\n",
    "    \n",
    "    # Initialize first column\n",
    "    for s in states:\n",
    "        V[0][s] = emit[s][seq[0]] if s == 'E' else float('-inf')\n",
    "    \n",
    "    # Fill V and ptr tables\n",
    "    for t in range(1, n):\n",
    "        for s in states:\n",
    "            max_p, best_prev = float('-inf'), ''\n",
    "            for prev in states:\n",
    "                p = V[t-1][prev] + trans[prev][s] + emit[s][seq[t]]\n",
    "                if p > max_p:\n",
    "                    max_p, best_prev = p, prev\n",
    "            V[t][s], ptr[t][s] = max_p, best_prev\n",
    "    \n",
    "    # Traceback\n",
    "    max_p, end_s = max((V[n-1][s], s) for s in states)\n",
    "    path = [end_s]\n",
    "    for t in range(n-1, 0, -1):\n",
    "        end_s = ptr[t][end_s]\n",
    "        path.insert(0, end_s)\n",
    "    \n",
    "    return ''.join(path)"
   ]
  },
  {
   "cell_type": "code",
   "execution_count": 13,
   "id": "30d711fa",
   "metadata": {},
   "outputs": [
    {
     "name": "stdout",
     "output_type": "stream",
     "text": [
      "EEEEEEEEEEEEEEE\n",
      "Log probability: -41.22\n"
     ]
    }
   ],
   "source": [
    "def log_prob(seq, path):\n",
    "    assert len(seq) == len(path), \"Sequence and path lengths must match\"\n",
    "    p = emit[path[0]][seq[0]] if path[0] == 'E' else float('-inf')\n",
    "    for t in range(1, len(seq)):\n",
    "        p += trans[path[t-1]][path[t]] + emit[path[t]][seq[t]]\n",
    "    p += math.log(0.1)  # Terminal transition\n",
    "    return p\n",
    "\n",
    "# Test\n",
    "dna = \"AGGCTCTCCATAAGG\"\n",
    "print(viterbi(dna))\n",
    "\n",
    "test_seq = \"CTTCATGTGAAAGCAGACGTAAGTCA\"\n",
    "test_path = \"EEEEEEEEEEEEEEEEEE5IIIIIII\"\n",
    "print(f\"Log probability: {log_prob(test_seq, test_path):.2f}\")"
   ]
  }
 ],
 "metadata": {
  "kernelspec": {
   "display_name": "base",
   "language": "python",
   "name": "python3"
  },
  "language_info": {
   "codemirror_mode": {
    "name": "ipython",
    "version": 3
   },
   "file_extension": ".py",
   "mimetype": "text/x-python",
   "name": "python",
   "nbconvert_exporter": "python",
   "pygments_lexer": "ipython3",
   "version": "3.12.7"
  }
 },
 "nbformat": 4,
 "nbformat_minor": 5
}
