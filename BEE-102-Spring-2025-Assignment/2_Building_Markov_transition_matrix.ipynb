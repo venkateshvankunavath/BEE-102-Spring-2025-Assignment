{
 "cells": [
  {
   "cell_type": "code",
   "execution_count": 1,
   "id": "ca48357c",
   "metadata": {},
   "outputs": [
    {
     "name": "stdout",
     "output_type": "stream",
     "text": [
      "Requirement already satisfied: Bio in c:\\users\\vanku\\anaconda3\\lib\\site-packages (1.7.1)\n",
      "Requirement already satisfied: biopython>=1.80 in c:\\users\\vanku\\anaconda3\\lib\\site-packages (from Bio) (1.85)\n",
      "Requirement already satisfied: gprofiler-official in c:\\users\\vanku\\anaconda3\\lib\\site-packages (from Bio) (1.0.0)\n",
      "Requirement already satisfied: mygene in c:\\users\\vanku\\anaconda3\\lib\\site-packages (from Bio) (3.2.2)\n",
      "Requirement already satisfied: pandas in c:\\users\\vanku\\anaconda3\\lib\\site-packages (from Bio) (2.2.2)\n",
      "Requirement already satisfied: pooch in c:\\users\\vanku\\anaconda3\\lib\\site-packages (from Bio) (1.8.2)\n",
      "Requirement already satisfied: requests in c:\\users\\vanku\\anaconda3\\lib\\site-packages (from Bio) (2.32.3)\n",
      "Requirement already satisfied: tqdm in c:\\users\\vanku\\anaconda3\\lib\\site-packages (from Bio) (4.66.5)\n",
      "Requirement already satisfied: numpy in c:\\users\\vanku\\anaconda3\\lib\\site-packages (from biopython>=1.80->Bio) (1.26.4)\n",
      "Requirement already satisfied: biothings-client>=0.2.6 in c:\\users\\vanku\\anaconda3\\lib\\site-packages (from mygene->Bio) (0.4.1)\n",
      "Requirement already satisfied: python-dateutil>=2.8.2 in c:\\users\\vanku\\anaconda3\\lib\\site-packages (from pandas->Bio) (2.9.0.post0)\n",
      "Requirement already satisfied: pytz>=2020.1 in c:\\users\\vanku\\anaconda3\\lib\\site-packages (from pandas->Bio) (2024.1)\n",
      "Requirement already satisfied: tzdata>=2022.7 in c:\\users\\vanku\\anaconda3\\lib\\site-packages (from pandas->Bio) (2023.3)\n",
      "Requirement already satisfied: platformdirs>=2.5.0 in c:\\users\\vanku\\anaconda3\\lib\\site-packages (from pooch->Bio) (3.10.0)\n",
      "Requirement already satisfied: packaging>=20.0 in c:\\users\\vanku\\anaconda3\\lib\\site-packages (from pooch->Bio) (24.1)\n",
      "Requirement already satisfied: charset-normalizer<4,>=2 in c:\\users\\vanku\\anaconda3\\lib\\site-packages (from requests->Bio) (3.3.2)\n",
      "Requirement already satisfied: idna<4,>=2.5 in c:\\users\\vanku\\anaconda3\\lib\\site-packages (from requests->Bio) (3.7)\n",
      "Requirement already satisfied: urllib3<3,>=1.21.1 in c:\\users\\vanku\\anaconda3\\lib\\site-packages (from requests->Bio) (2.2.3)\n",
      "Requirement already satisfied: certifi>=2017.4.17 in c:\\users\\vanku\\anaconda3\\lib\\site-packages (from requests->Bio) (2025.1.31)\n",
      "Requirement already satisfied: colorama in c:\\users\\vanku\\anaconda3\\lib\\site-packages (from tqdm->Bio) (0.4.6)\n",
      "Requirement already satisfied: httpx>=0.22.0 in c:\\users\\vanku\\anaconda3\\lib\\site-packages (from biothings-client>=0.2.6->mygene->Bio) (0.27.0)\n",
      "Requirement already satisfied: six>=1.5 in c:\\users\\vanku\\anaconda3\\lib\\site-packages (from python-dateutil>=2.8.2->pandas->Bio) (1.16.0)\n",
      "Requirement already satisfied: anyio in c:\\users\\vanku\\anaconda3\\lib\\site-packages (from httpx>=0.22.0->biothings-client>=0.2.6->mygene->Bio) (4.2.0)\n",
      "Requirement already satisfied: httpcore==1.* in c:\\users\\vanku\\anaconda3\\lib\\site-packages (from httpx>=0.22.0->biothings-client>=0.2.6->mygene->Bio) (1.0.2)\n",
      "Requirement already satisfied: sniffio in c:\\users\\vanku\\anaconda3\\lib\\site-packages (from httpx>=0.22.0->biothings-client>=0.2.6->mygene->Bio) (1.3.0)\n",
      "Requirement already satisfied: h11<0.15,>=0.13 in c:\\users\\vanku\\anaconda3\\lib\\site-packages (from httpcore==1.*->httpx>=0.22.0->biothings-client>=0.2.6->mygene->Bio) (0.14.0)\n",
      "Note: you may need to restart the kernel to use updated packages.\n"
     ]
    }
   ],
   "source": [
    "%pip install Bio "
   ]
  },
  {
   "cell_type": "code",
   "execution_count": 3,
   "id": "3882c7ed",
   "metadata": {},
   "outputs": [
    {
     "name": "stdout",
     "output_type": "stream",
     "text": [
      "First-Order Markov Transition Probability Matrix:\n",
      "          A         C         G         T\n",
      "A  0.250870  0.242645  0.264790  0.241696\n",
      "C  0.246548  0.254438  0.244905  0.254109\n",
      "G  0.251826  0.247380  0.255637  0.245157\n",
      "T  0.270936  0.237438  0.250246  0.241379\n"
     ]
    }
   ],
   "source": [
    "#  Read from a multi-record FASTA file and concatenate sequences\n",
    "from Bio import SeqIO\n",
    "fasta_path = \"data/multiline_input.fasta\"\n",
    "sequence = []\n",
    "for record in SeqIO.parse(fasta_path, \"fasta\"):\n",
    "    sequence.append(str(record.seq))\n",
    "sequence = ''.join(sequence)\n",
    "\n",
    "# 2. Define nucleotide states\n",
    "states = ['A', 'C', 'G', 'T']\n",
    "\n",
    "# 3. Initialize transition count matrix\n",
    "t_counts = {s: {t: 0 for t in states} for s in states}\n",
    "\n",
    "# 4. Count observed transitions\n",
    "for i in range(len(sequence) - 1):\n",
    "    curr, nxt = sequence[i].upper(), sequence[i+1].upper()\n",
    "    if curr in states and nxt in states:\n",
    "        t_counts[curr][nxt] += 1\n",
    "\n",
    "# 5. Convert counts to probabilities\n",
    "t_probs = {s: {} for s in states}\n",
    "for s in states:\n",
    "    total = sum(t_counts[s].values())\n",
    "    if total > 0:\n",
    "        for t in states:\n",
    "            t_probs[s][t] = t_counts[s][t] / total\n",
    "    else:\n",
    "        for t in states:\n",
    "            t_probs[s][t] = 0.0\n",
    "\n",
    "# 6. Display as a matrix using pandas\n",
    "import pandas as pd\n",
    "transition_df = pd.DataFrame(t_probs).T  # rows: current state, cols: next state\n",
    "\n",
    "print(\"First-Order Markov Transition Probability Matrix:\")\n",
    "print(transition_df)\n"
   ]
  }
 ],
 "metadata": {
  "kernelspec": {
   "display_name": "base",
   "language": "python",
   "name": "python3"
  },
  "language_info": {
   "codemirror_mode": {
    "name": "ipython",
    "version": 3
   },
   "file_extension": ".py",
   "mimetype": "text/x-python",
   "name": "python",
   "nbconvert_exporter": "python",
   "pygments_lexer": "ipython3",
   "version": "3.12.7"
  }
 },
 "nbformat": 4,
 "nbformat_minor": 5
}
