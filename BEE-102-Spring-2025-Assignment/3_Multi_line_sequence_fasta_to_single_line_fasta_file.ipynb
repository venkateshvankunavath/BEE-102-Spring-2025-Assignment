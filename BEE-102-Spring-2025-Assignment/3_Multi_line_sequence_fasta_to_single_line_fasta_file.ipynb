{
 "cells": [
  {
   "cell_type": "code",
   "execution_count": 2,
   "id": "b34fa736",
   "metadata": {},
   "outputs": [
    {
     "name": "stdout",
     "output_type": "stream",
     "text": [
      "Reformatted FASTA written to: one_line_output.fasta\n"
     ]
    }
   ],
   "source": [
    "from Bio import SeqIO\n",
    "in_fasta  = \"data/multiline_input.fasta\"\n",
    "out_fasta = \"one_line_output.fasta\"\n",
    "\n",
    "with open(out_fasta, 'w') as fout:\n",
    "    for record in SeqIO.parse(in_fasta, \"fasta\"):\n",
    "        # Write header\n",
    "        fout.write(f\">{record.description}\\n\")\n",
    "        # Write full sequence on one line\n",
    "        fout.write(str(record.seq).replace(\"\\n\", \"\") + \"\\n\")\n",
    "\n",
    "print(f\"Reformatted FASTA written to: {out_fasta}\")\n"
   ]
  }
 ],
 "metadata": {
  "kernelspec": {
   "display_name": "base",
   "language": "python",
   "name": "python3"
  },
  "language_info": {
   "codemirror_mode": {
    "name": "ipython",
    "version": 3
   },
   "file_extension": ".py",
   "mimetype": "text/x-python",
   "name": "python",
   "nbconvert_exporter": "python",
   "pygments_lexer": "ipython3",
   "version": "3.12.7"
  }
 },
 "nbformat": 4,
 "nbformat_minor": 5
}
